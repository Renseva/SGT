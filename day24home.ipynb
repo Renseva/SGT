{
 "cells": [
  {
   "cell_type": "code",
   "execution_count": null,
   "metadata": {},
   "outputs": [],
   "source": [
    "# TODO \n",
    "# Task 1\n",
    "# provide a query that shows total sales by each sales agent\n",
    "# will require to join with the customer table\n",
    "# will require to join with the invoice table\n",
    "\n",
    "# Task 2\n",
    "# QUERY TO find the top selling track of 2012\n",
    "# will require use track table\n",
    "# will requiret to join with invoice items table\n",
    "# will require to join with the invoice table"
   ]
  },
  {
   "cell_type": "code",
   "execution_count": 2,
   "metadata": {},
   "outputs": [],
   "source": [
    "import sqlite3\n",
    "import pandas as pd"
   ]
  },
  {
   "cell_type": "code",
   "execution_count": 3,
   "metadata": {},
   "outputs": [],
   "source": [
    "class DBgroupby:\n",
    "    def __init__(self, dbpath):\n",
    "        self.dbpath = dbpath\n",
    "        self.conn = sqlite3.connect(dbpath)\n",
    "        self.cur = self.conn.cursor()\n",
    "\n",
    "    def __del__(self):\n",
    "        self.conn.close()\n",
    "\n",
    "    def agent_sales(self):\n",
    "        query = \"\"\"\n",
    "        SELECT\n",
    "            e.EmployeeId, e.FirstName, SUM(Total) Total_sales\n",
    "        FROM invoices i \n",
    "        JOIN customers c \n",
    "            ON i.CustomerId = c.CustomerId \n",
    "        JOIN employees e\n",
    "            ON c.SupportRepId = e.EmployeeId\n",
    "        GROUP BY e.EmployeeId;\n",
    "        \"\"\"\n",
    "        return pd.read_sql_query(query, self.conn)\n",
    "\n",
    "    def toptrack2012(self):\n",
    "        query = \"\"\"\n",
    "        SELECT\n",
    "            t.trackid,\n",
    "            t.Name AS TrackTitle,\n",
    "            (SUM(ii.UnitPrice * ii.Quantity)) AS TrckSales2012  \n",
    "        FROM tracks t\n",
    "        JOIN invoice_items ii\n",
    "            ON t.TrackId = ii.TrackId\n",
    "        JOIN invoices i \n",
    "            ON ii.InvoiceId = i.InvoiceId \n",
    "        GROUP BY t.TrackId \n",
    "            HAVING SUBSTR(i.InvoiceDate, 1, 4) = '2012'\n",
    "        ORDER BY Trcksales2012 DESC LIMIT 1;\n",
    "        \"\"\"\n",
    "        return pd.read_sql_query(query, self.conn)"
   ]
  },
  {
   "cell_type": "code",
   "execution_count": 5,
   "metadata": {},
   "outputs": [
    {
     "data": {
      "text/html": [
       "<div>\n",
       "<style scoped>\n",
       "    .dataframe tbody tr th:only-of-type {\n",
       "        vertical-align: middle;\n",
       "    }\n",
       "\n",
       "    .dataframe tbody tr th {\n",
       "        vertical-align: top;\n",
       "    }\n",
       "\n",
       "    .dataframe thead th {\n",
       "        text-align: right;\n",
       "    }\n",
       "</style>\n",
       "<table border=\"1\" class=\"dataframe\">\n",
       "  <thead>\n",
       "    <tr style=\"text-align: right;\">\n",
       "      <th></th>\n",
       "      <th>EmployeeId</th>\n",
       "      <th>FirstName</th>\n",
       "      <th>Total_sales</th>\n",
       "    </tr>\n",
       "  </thead>\n",
       "  <tbody>\n",
       "    <tr>\n",
       "      <th>0</th>\n",
       "      <td>3</td>\n",
       "      <td>Jane</td>\n",
       "      <td>833.04</td>\n",
       "    </tr>\n",
       "    <tr>\n",
       "      <th>1</th>\n",
       "      <td>4</td>\n",
       "      <td>Margaret</td>\n",
       "      <td>775.40</td>\n",
       "    </tr>\n",
       "    <tr>\n",
       "      <th>2</th>\n",
       "      <td>5</td>\n",
       "      <td>Steve</td>\n",
       "      <td>720.16</td>\n",
       "    </tr>\n",
       "  </tbody>\n",
       "</table>\n",
       "</div>"
      ],
      "text/plain": [
       "   EmployeeId FirstName  Total_sales\n",
       "0           3      Jane       833.04\n",
       "1           4  Margaret       775.40\n",
       "2           5     Steve       720.16"
      ]
     },
     "execution_count": 5,
     "metadata": {},
     "output_type": "execute_result"
    }
   ],
   "source": [
    "query1 = DBgroupby(\"C:/Users/User/Downloads/chinook.db\").agent_sales()\n",
    "query1"
   ]
  },
  {
   "cell_type": "code",
   "execution_count": 7,
   "metadata": {},
   "outputs": [
    {
     "data": {
      "text/html": [
       "<div>\n",
       "<style scoped>\n",
       "    .dataframe tbody tr th:only-of-type {\n",
       "        vertical-align: middle;\n",
       "    }\n",
       "\n",
       "    .dataframe tbody tr th {\n",
       "        vertical-align: top;\n",
       "    }\n",
       "\n",
       "    .dataframe thead th {\n",
       "        text-align: right;\n",
       "    }\n",
       "</style>\n",
       "<table border=\"1\" class=\"dataframe\">\n",
       "  <thead>\n",
       "    <tr style=\"text-align: right;\">\n",
       "      <th></th>\n",
       "      <th>TrackId</th>\n",
       "      <th>TrackTitle</th>\n",
       "      <th>TrckSales2012</th>\n",
       "    </tr>\n",
       "  </thead>\n",
       "  <tbody>\n",
       "    <tr>\n",
       "      <th>0</th>\n",
       "      <td>3177</td>\n",
       "      <td>Hot Girl</td>\n",
       "      <td>3.98</td>\n",
       "    </tr>\n",
       "  </tbody>\n",
       "</table>\n",
       "</div>"
      ],
      "text/plain": [
       "   TrackId TrackTitle  TrckSales2012\n",
       "0     3177   Hot Girl           3.98"
      ]
     },
     "execution_count": 7,
     "metadata": {},
     "output_type": "execute_result"
    }
   ],
   "source": [
    "query2 = DBgroupby(\"C:/Users/User/Downloads/chinook.db\").toptrack2012()\n",
    "query2"
   ]
  }
 ],
 "metadata": {
  "kernelspec": {
   "display_name": "Python 3.10.7 64-bit",
   "language": "python",
   "name": "python3"
  },
  "language_info": {
   "codemirror_mode": {
    "name": "ipython",
    "version": 3
   },
   "file_extension": ".py",
   "mimetype": "text/x-python",
   "name": "python",
   "nbconvert_exporter": "python",
   "pygments_lexer": "ipython3",
   "version": "3.10.7"
  },
  "orig_nbformat": 4,
  "vscode": {
   "interpreter": {
    "hash": "afb734500600fd355917ca529030176ea0ca205570884b88f2f6f7d791fd3fbe"
   }
  }
 },
 "nbformat": 4,
 "nbformat_minor": 2
}
