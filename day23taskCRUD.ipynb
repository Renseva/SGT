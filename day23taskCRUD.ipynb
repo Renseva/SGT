{
 "cells": [
  {
   "cell_type": "code",
   "execution_count": null,
   "metadata": {},
   "outputs": [],
   "source": [
    "# TODO: the following 5 functions for CRUD(create, read,update,delete) operations that work with sqlite database called chinook.db\n",
    "# def create_connection(dbpath):\n",
    "#   # can add verbose parameter that prints sqlite version used\n",
    "#   return conn\n",
    "# def create_artist(conn, artist_name):\n",
    "   # use parametrized query !\n",
    "#   # do not have to return anything but can use try: inside this function\n",
    "# def read_artists(conn):  # can add some extra parameters to limit\n",
    "#   return artists  # can return a list of tuples, or you can create a list of artist objects if you want\n",
    "# def update_artist(id, new_name):\n",
    "# def delete_artist(id=None, name=\"\"):\n",
    "#    # provide deletion by id AND/OR name\n",
    "# test it by adding you name to artists table smile"
   ]
  },
  {
   "cell_type": "code",
   "execution_count": 32,
   "metadata": {},
   "outputs": [],
   "source": [
    "import sqlite3"
   ]
  },
  {
   "cell_type": "code",
   "execution_count": 33,
   "metadata": {},
   "outputs": [],
   "source": [
    "def create_connection(dbpath):\n",
    "    con = sqlite3.connect(dbpath)\n",
    "    return con"
   ]
  },
  {
   "cell_type": "code",
   "execution_count": 34,
   "metadata": {},
   "outputs": [
    {
     "data": {
      "text/plain": [
       "<sqlite3.Connection at 0x27bbc866640>"
      ]
     },
     "execution_count": 34,
     "metadata": {},
     "output_type": "execute_result"
    }
   ],
   "source": [
    "create_connection('C:/Users/User/Downloads/chinook.db')"
   ]
  },
  {
   "cell_type": "code",
   "execution_count": 35,
   "metadata": {},
   "outputs": [],
   "source": [
    "def create_artist(con, artist_name):\n",
    "    cur = con.cursor()\n",
    "    cur.execute(\"insert into artists(name) values (?)\", (artist_name,))\n",
    "    con.commit()\n",
    "    con.close()"
   ]
  },
  {
   "cell_type": "code",
   "execution_count": 36,
   "metadata": {},
   "outputs": [],
   "source": [
    "create_artist(create_connection('C:/Users/User/Downloads/chinook.db'), 'Jon Bon Jovi')"
   ]
  },
  {
   "cell_type": "code",
   "execution_count": 37,
   "metadata": {},
   "outputs": [],
   "source": [
    "import pandas as pd"
   ]
  },
  {
   "cell_type": "code",
   "execution_count": 38,
   "metadata": {},
   "outputs": [],
   "source": [
    "def read_artists(con):\n",
    "    artist_list20 = pd.read_sql_query(\"select name from artists limit 20 offset 260\", con)\n",
    "    con.close()\n",
    "    return artist_list20"
   ]
  },
  {
   "cell_type": "code",
   "execution_count": 39,
   "metadata": {},
   "outputs": [
    {
     "name": "stdout",
     "output_type": "stream",
     "text": [
      "                                                 Name\n",
      "0          Roger Norrington, London Classical Players\n",
      "1   Charles Dutoit & L'Orchestre Symphonique de Mo...\n",
      "2   Equale Brass Ensemble, John Eliot Gardiner & M...\n",
      "3        Kent Nagano and Orchestre de l'Opéra de Lyon\n",
      "4                                        Julian Bream\n",
      "5                                       Martin Roscoe\n",
      "6                  Göteborgs Symfoniker & Neeme Järvi\n",
      "7                                      Itzhak Perlman\n",
      "8                                  Michele Campanella\n",
      "9                                        Gerald Moore\n",
      "10   Mela Tenenbaum, Pro Musica Prague & Richard Kapp\n",
      "11                             Emerson String Quartet\n",
      "12  C. Monteverdi, Nigel Rogers - Chiaroscuro; Lon...\n",
      "13                                      Nash Ensemble\n",
      "14                              Philip Glass Ensemble\n",
      "15                                Valdis Saulespurēns\n",
      "16                                        Ryan Farish\n",
      "17                                       Jon Bon Jovi\n"
     ]
    }
   ],
   "source": [
    "print(read_artists(create_connection('C:/Users/User/Downloads/chinook.db')))"
   ]
  },
  {
   "cell_type": "code",
   "execution_count": 40,
   "metadata": {},
   "outputs": [],
   "source": [
    "def read_artists1(con):\n",
    "    cur = con.cursor()\n",
    "    cur.execute(\"select name from artists order by artistid desc limit 20\")\n",
    "    artist_list20 = cur.fetchall()\n",
    "    con.close()\n",
    "    return artist_list20"
   ]
  },
  {
   "cell_type": "code",
   "execution_count": 12,
   "metadata": {},
   "outputs": [
    {
     "name": "stdout",
     "output_type": "stream",
     "text": [
      "[('Jon Bon Jovi',), ('Jon Bon Jovi',), ('Jon Bon Jovi',), ('Jon Bon Jovi',), ('Valdis Saulespurēns',), ('Philip Glass Ensemble',), ('Nash Ensemble',), ('C. Monteverdi, Nigel Rogers - Chiaroscuro; London Baroque; London Cornett & Sackbu',), ('Emerson String Quartet',), ('Mela Tenenbaum, Pro Musica Prague & Richard Kapp',), ('Gerald Moore',), ('Michele Campanella',), ('Itzhak Perlman',), ('Göteborgs Symfoniker & Neeme Järvi',), ('Martin Roscoe',), ('Julian Bream',), (\"Kent Nagano and Orchestre de l'Opéra de Lyon\",), ('Equale Brass Ensemble, John Eliot Gardiner & Munich Monteverdi Orchestra and Choir',), (\"Charles Dutoit & L'Orchestre Symphonique de Montréal\",), ('Roger Norrington, London Classical Players',)]\n"
     ]
    }
   ],
   "source": [
    "print(read_artists1(create_connection('C:/Users/User/Downloads/chinook.db')))"
   ]
  },
  {
   "cell_type": "code",
   "execution_count": 41,
   "metadata": {},
   "outputs": [],
   "source": [
    "def update_artist(id, new_name):\n",
    "    con = create_connection('C:/Users/User/Downloads/chinook.db')\n",
    "    cur = con.cursor()\n",
    "    cur.execute('update artists set name = ? where artistid = ?', (new_name, id))\n",
    "    con.commit()\n",
    "    con.close()\n",
    "    \n"
   ]
  },
  {
   "cell_type": "code",
   "execution_count": 42,
   "metadata": {},
   "outputs": [],
   "source": [
    "update_artist(231, 'Ryan Farish')"
   ]
  },
  {
   "cell_type": "code",
   "execution_count": 43,
   "metadata": {},
   "outputs": [],
   "source": [
    "def delete_artist(id=None, name=\"\"):\n",
    "    con = create_connection('C:/Users/User/Downloads/chinook.db')\n",
    "    cur = con.cursor()\n",
    "    if id != None:\n",
    "        cur.execute(\"delete from artists where Artistid = ?\", (id,))\n",
    "    else:\n",
    "        nam=name\n",
    "        cur.execute(\"delete from artists where name = ?\", (nam,))\n",
    "    con.commit()\n",
    "    con.close()"
   ]
  },
  {
   "cell_type": "code",
   "execution_count": 44,
   "metadata": {},
   "outputs": [],
   "source": [
    "delete_artist(id = 231)"
   ]
  },
  {
   "cell_type": "code",
   "execution_count": 45,
   "metadata": {},
   "outputs": [],
   "source": [
    "delete_artist(id=None, name='Rodox')"
   ]
  }
 ],
 "metadata": {
  "kernelspec": {
   "display_name": "Python 3.10.7 64-bit",
   "language": "python",
   "name": "python3"
  },
  "language_info": {
   "codemirror_mode": {
    "name": "ipython",
    "version": 3
   },
   "file_extension": ".py",
   "mimetype": "text/x-python",
   "name": "python",
   "nbconvert_exporter": "python",
   "pygments_lexer": "ipython3",
   "version": "3.10.7"
  },
  "orig_nbformat": 4,
  "vscode": {
   "interpreter": {
    "hash": "afb734500600fd355917ca529030176ea0ca205570884b88f2f6f7d791fd3fbe"
   }
  }
 },
 "nbformat": 4,
 "nbformat_minor": 2
}
