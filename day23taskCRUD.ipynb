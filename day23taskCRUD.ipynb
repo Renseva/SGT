{
 "cells": [
  {
   "cell_type": "code",
   "execution_count": null,
   "metadata": {},
   "outputs": [],
   "source": [
    "# TODO: the following 5 functions for CRUD(create, read,update,delete) operations that work with sqlite database called chinook.db\n",
    "# def create_connection(dbpath):\n",
    "#   # can add verbose parameter that prints sqlite version used\n",
    "#   return conn\n",
    "# def create_artist(conn, artist_name):\n",
    "   # use parametrized query !\n",
    "#   # do not have to return anything but can use try: inside this function\n",
    "# def read_artists(conn):  # can add some extra parameters to limit\n",
    "#   return artists  # can return a list of tuples, or you can create a list of artist objects if you want\n",
    "# def update_artist(id, new_name):\n",
    "# def delete_artist(id=None, name=\"\"):\n",
    "#    # provide deletion by id AND/OR name\n",
    "# test it by adding you name to artists table smile"
   ]
  },
  {
   "cell_type": "code",
   "execution_count": 4,
   "metadata": {},
   "outputs": [],
   "source": [
    "import sqlite3"
   ]
  },
  {
   "cell_type": "code",
   "execution_count": 5,
   "metadata": {},
   "outputs": [],
   "source": [
    "def create_connection(dbpath):\n",
    "    con = sqlite3.connect(dbpath)\n",
    "    return con"
   ]
  },
  {
   "cell_type": "code",
   "execution_count": 6,
   "metadata": {},
   "outputs": [],
   "source": [
    "# cur = create_connection(input('Enter db path:')).cursor()\n",
    "# print(cur)"
   ]
  },
  {
   "cell_type": "code",
   "execution_count": 9,
   "metadata": {},
   "outputs": [],
   "source": [
    "def create_artist(con, artist_name):\n",
    "    cur = con.cursor()\n",
    "    cur.execute(\"insert into artists(name) values (?)\", (artist_name,))\n",
    "    con.commit()"
   ]
  },
  {
   "cell_type": "code",
   "execution_count": 10,
   "metadata": {},
   "outputs": [],
   "source": [
    "create_artist(create_connection('C:/Users/User/Downloads/chinook.db'), 'Jon Bon Jovi')"
   ]
  },
  {
   "cell_type": "code",
   "execution_count": 11,
   "metadata": {},
   "outputs": [],
   "source": [
    "import pandas as pd"
   ]
  },
  {
   "cell_type": "code",
   "execution_count": 22,
   "metadata": {},
   "outputs": [],
   "source": [
    "def read_artists(con):\n",
    "    artist_list20 = pd.read_sql_query(\"select name from artists limit 20 offset 200\", con)\n",
    "    return artist_list20['Name'] #unsure at this stage"
   ]
  },
  {
   "cell_type": "code",
   "execution_count": 23,
   "metadata": {},
   "outputs": [
    {
     "name": "stdout",
     "output_type": "stream",
     "text": [
      "0                          Luciana Souza/Romero Lubambo\n",
      "1                                        Aaron Goldberg\n",
      "2                           Nicolaus Esterhazy Sinfonia\n",
      "3                                     Temple of the Dog\n",
      "4                                         Chris Cornell\n",
      "5                Alberto Turco & Nova Schola Gregoriana\n",
      "6     Richard Marlow & The Choir of Trinity College,...\n",
      "7                      English Concert & Trevor Pinnock\n",
      "8     Anne-Sophie Mutter, Herbert Von Karajan & Wien...\n",
      "9     Hilary Hahn, Jeffrey Kahane, Los Angeles Chamb...\n",
      "10                                       Wilhelm Kempff\n",
      "11                                             Yo-Yo Ma\n",
      "12                            Scholars Baroque Ensemble\n",
      "13    Academy of St. Martin in the Fields & Sir Nevi...\n",
      "14    Academy of St. Martin in the Fields Chamber En...\n",
      "15    Berliner Philharmoniker, Claudio Abbado & Sabi...\n",
      "16    Royal Philharmonic Orchestra & Sir Thomas Beecham\n",
      "17    Orchestre Révolutionnaire et Romantique & John...\n",
      "18       Britten Sinfonia, Ivor Bolton & Lesley Garrett\n",
      "19    Chicago Symphony Chorus, Chicago Symphony Orch...\n",
      "Name: Name, dtype: object\n"
     ]
    }
   ],
   "source": [
    "print(read_artists(create_connection('C:/Users/User/Downloads/chinook.db')))"
   ]
  },
  {
   "cell_type": "code",
   "execution_count": null,
   "metadata": {},
   "outputs": [],
   "source": [
    "#def update_artist(id, new_name):"
   ]
  },
  {
   "cell_type": "code",
   "execution_count": null,
   "metadata": {},
   "outputs": [],
   "source": [
    "def delete_artist(id=None, name=\"\"):\n",
    "    if id != None:\n",
    "        nr=id\n",
    "        deleted = pd.read_sql_query(\"delete name from artists where id = (?)\", nr )\n",
    "    else:\n",
    "        nam=name\n",
    "        deleted = pd.read_sql_query(\"delete name from artists where name = (?)\", nam )\n"
   ]
  }
 ],
 "metadata": {
  "kernelspec": {
   "display_name": "Python 3.10.7 64-bit",
   "language": "python",
   "name": "python3"
  },
  "language_info": {
   "codemirror_mode": {
    "name": "ipython",
    "version": 3
   },
   "file_extension": ".py",
   "mimetype": "text/x-python",
   "name": "python",
   "nbconvert_exporter": "python",
   "pygments_lexer": "ipython3",
   "version": "3.10.7"
  },
  "orig_nbformat": 4,
  "vscode": {
   "interpreter": {
    "hash": "afb734500600fd355917ca529030176ea0ca205570884b88f2f6f7d791fd3fbe"
   }
  }
 },
 "nbformat": 4,
 "nbformat_minor": 2
}
