{
 "cells": [
  {
   "cell_type": "code",
   "execution_count": null,
   "metadata": {},
   "outputs": [],
   "source": [
    "# TODO\n",
    "# read JSON from some public url\n",
    "# some ideas here: https://github.com/public-apis/public-apis\n",
    "# also https://jsonplaceholder.typicode.com/\n",
    "# https://mockaroo.com/ - requires registration to generate API key\n",
    "# choose ones that don't require authentication\n",
    "# many APIs are run by volunteers, so they may be slow or unreliable, or down\n",
    "# paid APIs are often faster and more reliable\n",
    "\n",
    "# TODO\n",
    "# parse JSON using requests\n",
    "# print out the data\n",
    "# bonus save the data into a file of some sort, could be JSON could be something else"
   ]
  },
  {
   "cell_type": "code",
   "execution_count": 1,
   "metadata": {},
   "outputs": [],
   "source": [
    "import requests"
   ]
  },
  {
   "cell_type": "code",
   "execution_count": 7,
   "metadata": {},
   "outputs": [
    {
     "name": "stdout",
     "output_type": "stream",
     "text": [
      "200\n"
     ]
    }
   ],
   "source": [
    "url=\"http://www.songsterr.com/a/ra/songs.xml?pattern=Santana\"\n",
    "idontknow = requests.get(url)\n",
    "print(idontknow.status_code)"
   ]
  },
  {
   "cell_type": "code",
   "execution_count": 8,
   "metadata": {},
   "outputs": [
    {
     "data": {
      "text/plain": [
       "'<?xml version=\"1.0\" encoding=\"UTF-8\"?>\\n<NSArray>\\n  <Song id=\"17608\" type=\"Song\">\\n    <title>Smooth</title>\\n    <artist id=\"4978\" type=\"Artist\">\\n      <nameWithoutThePrefix>Carlos Santana</nameWithoutThePrefix>\\n      <useThePrefix type = \"boolean\">false</useThePrefix>\\n      <name>Carlos Santana</name>\\n    </artist>\\n    <chordsPresent type = \"boolean\">true</chordsPresent>\\n    <tabTypes type=\"TabType\">\\n      <TabType type = \"enum\">PLAYER</TabType>\\n      <TabType type = \"enum\">TEXT_GUITAR_TAB</TabType>\\n      <TabType type = \"enum\">CHORDS</TabType>\\n    </tabTypes>\\n  </Song>\\n  <Song id=\"451\" type=\"Song\">\\n    <title>Europa</title>\\n    <artist id=\"4978\" type=\"Artist\">\\n      <nameWithoutThePrefix>Carlos Santana</nameWithoutThePrefix>\\n      <useThePrefix type = \"boolean\">false</useThePrefix>\\n      <name>Carlos Santana</name>\\n    </artist>\\n    <chordsPresent type = \"boolean\">false</chordsPresent>\\n    <tabTypes type=\"TabType\">\\n      <TabType type = \"enum\">PLAYER</TabType>\\n      <TabType type = \"en'"
      ]
     },
     "execution_count": 8,
     "metadata": {},
     "output_type": "execute_result"
    }
   ],
   "source": [
    "idontknow.text[:1000]\n"
   ]
  },
  {
   "cell_type": "code",
   "execution_count": 10,
   "metadata": {},
   "outputs": [],
   "source": [
    "import json"
   ]
  },
  {
   "cell_type": "markdown",
   "metadata": {},
   "source": [
    "I was installing requests and missed the logical connection, and now my mind is just blank, trying to read freecodecamp from the start\n",
    "![imagee](https://media.tenor.com/u1gqb8lo1xcAAAAd/going-crazy-dizzy.gif)"
   ]
  },
  {
   "cell_type": "code",
   "execution_count": null,
   "metadata": {},
   "outputs": [],
   "source": []
  }
 ],
 "metadata": {
  "kernelspec": {
   "display_name": "Python 3.10.7 64-bit",
   "language": "python",
   "name": "python3"
  },
  "language_info": {
   "codemirror_mode": {
    "name": "ipython",
    "version": 3
   },
   "file_extension": ".py",
   "mimetype": "text/x-python",
   "name": "python",
   "nbconvert_exporter": "python",
   "pygments_lexer": "ipython3",
   "version": "3.10.7"
  },
  "orig_nbformat": 4,
  "vscode": {
   "interpreter": {
    "hash": "afb734500600fd355917ca529030176ea0ca205570884b88f2f6f7d791fd3fbe"
   }
  }
 },
 "nbformat": 4,
 "nbformat_minor": 2
}
