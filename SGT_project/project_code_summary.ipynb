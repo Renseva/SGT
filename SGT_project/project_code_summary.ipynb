{
 "cells": [
  {
   "cell_type": "markdown",
   "metadata": {},
   "source": [
    "The project sometimes felt like find that tree the next time you are flying over the forest...\n",
    "\n",
    "But I can't blame anyone for choosing the scope I did...\n",
    "\n",
    "![imagee](https://th.bing.com/th/id/OIP.B87RVzeakkVPyehyUftOnwHaE5?pid=ImgDet&rs=1)\n",
    "\n"
   ]
  },
  {
   "cell_type": "markdown",
   "metadata": {},
   "source": [
    "I made a small business order processing application, which allows to view, export, edit some data which is held in a database and generate an invoice for an order.\n",
    "\n",
    "I populated the database with fictional entries using SQLite script within DBeaver. It has two tables Clients and Orders with respective information, with ClientId being the primary key in 'Clients' and a foreign key in 'Orders'."
   ]
  },
  {
   "cell_type": "markdown",
   "metadata": {},
   "source": [
    "application.ipynb includes the whole code, once I have covered all TODOs it might be ready to be split into modules.\n",
    "\n",
    "In the code I first have a class for database access ('DBtables'), which has most of the methods needed to deal with the user queries and some methods for intermediate outputs (i.e. mainly to be used in invoice generation).\n",
    "\n",
    "Next is a function to search Clients table by keyword, which relies on a DBtables method. Initially I had a very convoluted code for this task with repeating named functions for each column in the table, now it's less so, but probably there are even better solutions.\n",
    "\n",
    "Then there is a group of function definitions for getting user input necessary for invoice creation. So far there is more user input than one might expect, and this aspect is included in the TODO list to have a look at later.\n",
    "\n",
    "Then there is a number of functions for preparing variables for the invoice creation (such as client, dates, order information) - some are processed using class methods, some with slicing. I grouped those variables as tuple outputs of two functions, which are then passed into function for invoice generation.\n",
    "\n",
    "For this function I imported FPDF library, which allows to create PDF documents from scratch. I used FPDF modules to create an invoice document of specific format, including 'company logo'. When this function is called, an invoice is generated for one order only according to the user supplied choices and information from the database. I initially had a for loop to add several orders on one invoice, however ran out of time to make it happen. Invoice is also saved to a current folder, in the future I might add an option to choose where to save.\n",
    "\n",
    "Next are function definitions for choice menu, which asks user to choose their wanted action.\n",
    "\n",
    "Then there are respective functions to act on those choices, which call a relevant DBtables method.\n",
    "\n",
    "Last is sort of the main function, which calls the menu functions, since I made it last and it works, and I have a peculiar psychological block in this particular instance, I will have to change it later to the standard way when I'm less overloaded.\n",
    "\n",
    "Most methods and functions in my code use direct SQL query, I am yet to get comfortable with Pandas.\n",
    "\n",
    ":)\n",
    "\n",
    "\n"
   ]
  }
 ],
 "metadata": {
  "kernelspec": {
   "display_name": "Python 3.10.7 64-bit",
   "language": "python",
   "name": "python3"
  },
  "language_info": {
   "name": "python",
   "version": "3.10.7"
  },
  "orig_nbformat": 4,
  "vscode": {
   "interpreter": {
    "hash": "afb734500600fd355917ca529030176ea0ca205570884b88f2f6f7d791fd3fbe"
   }
  }
 },
 "nbformat": 4,
 "nbformat_minor": 2
}
