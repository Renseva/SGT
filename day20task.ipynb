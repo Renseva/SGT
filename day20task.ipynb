{
 "cells": [
  {
   "cell_type": "code",
   "execution_count": null,
   "metadata": {},
   "outputs": [],
   "source": [
    "# TODO in class\n",
    "# install BeautifulSoup if you do not have it already\n",
    "# pip install beautifulsoup4 \n",
    "# note the 4 at the end\n",
    "# find two URLs that you want to scrape on SS.com\n",
    "# scrape the data from the first page\n",
    "# scrape the data from the second page\n",
    "# you can use the functions I provided in the class\n",
    "\n",
    "# save both as csv files\n",
    "# and make plot of the data - up to you what you want to plot\n",
    "\n",
    "\n",
    "# homework will be to try to srape date from some other site - such as wikipedia"
   ]
  },
  {
   "cell_type": "code",
   "execution_count": 1,
   "metadata": {},
   "outputs": [],
   "source": [
    "import pandas as pd\n",
    "from bs4 import BeautifulSoup"
   ]
  },
  {
   "cell_type": "code",
   "execution_count": 2,
   "metadata": {},
   "outputs": [
    {
     "data": {
      "text/plain": [
       "('https://www.ss.com/lv/clothes-footwear/womens-clothes/suits/',\n",
       " 'https://www.ss.com/en/clothes-footwear/womens-clothes/jacketss/')"
      ]
     },
     "execution_count": 2,
     "metadata": {},
     "output_type": "execute_result"
    }
   ],
   "source": [
    "url1 = 'https://www.ss.com/lv/clothes-footwear/womens-clothes/suits/'\n",
    "url2 = 'https://www.ss.com/en/clothes-footwear/womens-clothes/jacketss/'\n",
    "url1 , url2"
   ]
  },
  {
   "cell_type": "code",
   "execution_count": 16,
   "metadata": {},
   "outputs": [],
   "source": [
    "dfs1 = pd.read_html(url1, header=0)\n",
    "dfs2 = pd.read_html(url2, header=0)\n"
   ]
  },
  {
   "cell_type": "code",
   "execution_count": 17,
   "metadata": {},
   "outputs": [
    {
     "data": {
      "text/plain": [
       "6"
      ]
     },
     "execution_count": 17,
     "metadata": {},
     "output_type": "execute_result"
    }
   ],
   "source": [
    "len(dfs1)\n"
   ]
  },
  {
   "cell_type": "code",
   "execution_count": 18,
   "metadata": {},
   "outputs": [
    {
     "data": {
      "text/plain": [
       "6"
      ]
     },
     "execution_count": 18,
     "metadata": {},
     "output_type": "execute_result"
    }
   ],
   "source": [
    "len(dfs2)"
   ]
  },
  {
   "cell_type": "code",
   "execution_count": 19,
   "metadata": {},
   "outputs": [
    {
     "data": {
      "text/html": [
       "<div>\n",
       "<style scoped>\n",
       "    .dataframe tbody tr th:only-of-type {\n",
       "        vertical-align: middle;\n",
       "    }\n",
       "\n",
       "    .dataframe tbody tr th {\n",
       "        vertical-align: top;\n",
       "    }\n",
       "\n",
       "    .dataframe thead th {\n",
       "        text-align: right;\n",
       "    }\n",
       "</style>\n",
       "<table border=\"1\" class=\"dataframe\">\n",
       "  <thead>\n",
       "    <tr style=\"text-align: right;\">\n",
       "      <th></th>\n",
       "      <th>Sieviešu apģērbi / UzvalkiVisi sludinājumiŠodien - 3Par 2 dienām - 13Par 5 dienām - 25  Cena: - Ražotājs:  Izmērs:  Stāv.: jaun.lietota Atrašanās vieta: RīgaRīgas rajonsDaugavpils un raj.Jēkabpils un raj.Liepāja un raj.Preiļi un raj.Rēzekne un raj.Ventspils un raj. Režīms:  Saraksts  Albums  Darījuma veids: VisiPārdodAtdod Tips: Visi Adītas jakasApakšveļaApkakles, apmetniBiksesBītlenesBleizeri, žaketesBlūzes, tunikasCepures,naģenes, beretesCimdi, dūraiņiDūnu jakasDžemperiDžinsiHalātiJēlādas kažokiKapri bikses, bridžiKarnevāla kostīmi un maskasKažokiKāzu kleitasKleitasKonbinezoniKorsetesKrekliLegingiMēteļiNaktsveļaPeldkostīmiŠallesSarafāniŠortiSporta apģērbiSvārkiT-krekliTopiņiTrenčkotmēteliUzvalkiVakara, balles kleitasVējjakasVestesVirsjakasZeķubikses, zeķesApģērbs grūtniecēm un barojošāmAksesuāriDažādiApaviTūrisma apģērbs  Sludinājumi \\tdatums RažotājsIzmērsStāv.CenaПродаю костюм Defacto 38 размера, пиджак и брюки, костюм новый, пиджак стоил 78, 80LRēzekne un raj., RēzekneDe Facto38jaun.20 € Шикарный костюм к любому празднику Цвет насыщенно чёрныйRīga, PurvciemsInter stil42jaun.25 € Костюм (пиджак и юбка) Полиэстер 66%, вискоза 32%, эластан 2% длина юбки 50см В хRīga, Mežciems123 (Paris)38lietota45 € Продаю красивый, модный, качественный и классный летний костюмчик большого размера-5Rīga, ZolitūdeFranciya56jaun.75 € Cotton S, MRīga, PurvciemsTurkeyS, mjaun.35 € Костюм тройка. Состав-Хлопок. Sml.Rīga, centrsItSmljaun.60 € Костюм тройка. Sml. Хлопок.Rīga, centrsItSmljaun.60 € Ivo Nikkolo. Stiligs uzvalks. 100% vilna. Dizonas sinepju krasa. Jauns stavoklis. CeRīga, centrsIvo Nikkolo40lietota75 € Продаю костюм, сшитый на заказ. Натуральная кожа. Одевался пару раз, отличное состRīga, ZolitūdeHand made36jaun.70 € Трикотажный костюм как новый, раз надевала, мне маловат, стоил дороже, висит без делRīga, BolderājaRSlietota25 € Ļoti ērts un stilīgs, kokvilnas kostīms no 3m daļām. Стильный и очень модный костюRīga, PļavniekiBottegaM Ljaun.105 € Новый спортивный костюм Tommy Hilfiger тёмно-зеленого цвета. Размер S и М.Rīga, PurvciemsTommy HilfigerS, mjaun.95 € Деловой костюм, на высокую даму. Нежно- голубой, От-100 см, Ог-116 см, длина юбки-83Rīga, centrsПольша56jaun.35 € Pārdošana stilīgs Itālijas ražojuma sporta kostīms. Izmēri M-Xxl. 90% Kokvilna, 10% Rīga, centrsItalijaM-Ljaun.89 € Pārdošana stilīgs Itālijas ražojuma sporta kostīms. Izmēri M-Xxl. 90% Kokvilna, 10% Rīga, centrsItalijaM-Ljaun.89 € Brīva laika kostīms, praktiski jauns, vienreiz vilkts, 46 izm, kokvilnaDaugavpils un raj., DaugavpilsTurcija46lietota30 € Samta kostìms l40izmers Jauns Pasutit car apakšā mājas lapā cai nopirkt uz vietaRīga, TeikaSet-75M-ljaun.28 € Утеплёный на флисе спортивный костюм s, m, l, xl . На месте или с доставкой можно Rīga, TeikaJustplaySmljaun.25 € Jauns s-m kostìms . Samta 85 poliamìds 15 elastans Pasùtit var e veikalā vai Rīga, TeikaSet 75S-mjaun.28 € Костюмчик с Шейна. По невнимательности заказала целых 3 лишних. Есть размеры 1 M-ка Rīga, ImantaSheinSjaun.14 € Продается костюм. Хлопок.Rīga, ImantaИталияS-Мlietota35 € Varu aizsūtīt omnivaRīga, ĶengaragsĶīnaS/mjaun.15 € Stilīgs kostīms no 3-m daļām. Melns ar sarkanu. Superīgi izskatās. Шикарный, модныRīga, PļavniekiElizab. ZanardiM38jaun.115 € Uz vietas Siltināts uz fliša sporta komplekts . S-xl На месте Хлопkoвый на флисе коRīga, TeikaJustplaySmljaun.20 € Тёплый костюм.Rīga, PurvciemsNo nameSjaun.45 € Состояние- новый, рост 170-176, Акрип/шерсть 50/50Rīga, ĶengaragsOgre58jaun.30 € Pārdodu dizainera kostīmu , 38, izmērs . Ļoti maz lietots , ideālā stāvoklī . VaiVentspils un raj., VentspilsYvessaintlaure38lietota75 € Шикарный, модный костюм тройка. Утеплённые подклад у желетки и шорт. Красивый бежевыRīga, PļavniekiElizabetazanarSmjaun.115 € Костюм из натурального материала, малоношенный, классический, очень стильный. В связJēkabpils un raj., Krustpils pag.Vēlme Latvija38lietota45 € Новый костюм. точно как на фото. подойдет и на не большую М.Rīga, ĶengaragsNezSjaun.15 €  Iepriekšējie 1 2 3 4 Nākamie Parādīt izvēlētos sludinājumus load_script_async( \"/w_inc/reklama.php?1686|0|5044|\"+Math.random()+\"|1|\"+escape(document.referrer)+\"|1\" );</th>\n",
       "    </tr>\n",
       "  </thead>\n",
       "  <tbody>\n",
       "  </tbody>\n",
       "</table>\n",
       "</div>"
      ],
      "text/plain": [
       "Empty DataFrame\n",
       "Columns: [Sieviešu apģērbi / UzvalkiVisi sludinājumiŠodien - 3Par 2 dienām - 13Par 5 dienām - 25  Cena: - Ražotājs:  Izmērs:  Stāv.: jaun.lietota Atrašanās vieta: RīgaRīgas rajonsDaugavpils un raj.Jēkabpils un raj.Liepāja un raj.Preiļi un raj.Rēzekne un raj.Ventspils un raj. Režīms:  Saraksts  Albums  Darījuma veids: VisiPārdodAtdod Tips: Visi Adītas jakasApakšveļaApkakles, apmetniBiksesBītlenesBleizeri, žaketesBlūzes, tunikasCepures,naģenes, beretesCimdi, dūraiņiDūnu jakasDžemperiDžinsiHalātiJēlādas kažokiKapri bikses, bridžiKarnevāla kostīmi un maskasKažokiKāzu kleitasKleitasKonbinezoniKorsetesKrekliLegingiMēteļiNaktsveļaPeldkostīmiŠallesSarafāniŠortiSporta apģērbiSvārkiT-krekliTopiņiTrenčkotmēteliUzvalkiVakara, balles kleitasVējjakasVestesVirsjakasZeķubikses, zeķesApģērbs grūtniecēm un barojošāmAksesuāriDažādiApaviTūrisma apģērbs  Sludinājumi \tdatums RažotājsIzmērsStāv.CenaПродаю костюм Defacto 38 размера, пиджак и брюки, костюм новый, пиджак стоил 78, 80LRēzekne un raj., RēzekneDe Facto38jaun.20 € Шикарный костюм к любому празднику Цвет насыщенно чёрныйRīga, PurvciemsInter stil42jaun.25 € Костюм (пиджак и юбка) Полиэстер 66%, вискоза 32%, эластан 2% длина юбки 50см В хRīga, Mežciems123 (Paris)38lietota45 € Продаю красивый, модный, качественный и классный летний костюмчик большого размера-5Rīga, ZolitūdeFranciya56jaun.75 € Cotton S, MRīga, PurvciemsTurkeyS, mjaun.35 € Костюм тройка. Состав-Хлопок. Sml.Rīga, centrsItSmljaun.60 € Костюм тройка. Sml. Хлопок.Rīga, centrsItSmljaun.60 € Ivo Nikkolo. Stiligs uzvalks. 100% vilna. Dizonas sinepju krasa. Jauns stavoklis. CeRīga, centrsIvo Nikkolo40lietota75 € Продаю костюм, сшитый на заказ. Натуральная кожа. Одевался пару раз, отличное состRīga, ZolitūdeHand made36jaun.70 € Трикотажный костюм как новый, раз надевала, мне маловат, стоил дороже, висит без делRīga, BolderājaRSlietota25 € Ļoti ērts un stilīgs, kokvilnas kostīms no 3m daļām. Стильный и очень модный костюRīga, PļavniekiBottegaM Ljaun.105 € Новый спортивный костюм Tommy Hilfiger тёмно-зеленого цвета. Размер S и М.Rīga, PurvciemsTommy HilfigerS, mjaun.95 € Деловой костюм, на высокую даму. Нежно- голубой, От-100 см, Ог-116 см, длина юбки-83Rīga, centrsПольша56jaun.35 € Pārdošana stilīgs Itālijas ražojuma sporta kostīms. Izmēri M-Xxl. 90% Kokvilna, 10% Rīga, centrsItalijaM-Ljaun.89 € Pārdošana stilīgs Itālijas ražojuma sporta kostīms. Izmēri M-Xxl. 90% Kokvilna, 10% Rīga, centrsItalijaM-Ljaun.89 € Brīva laika kostīms, praktiski jauns, vienreiz vilkts, 46 izm, kokvilnaDaugavpils un raj., DaugavpilsTurcija46lietota30 € Samta kostìms l40izmers Jauns Pasutit car apakšā mājas lapā cai nopirkt uz vietaRīga, TeikaSet-75M-ljaun.28 € Утеплёный на флисе спортивный костюм s, m, l, xl . На месте или с доставкой можно Rīga, TeikaJustplaySmljaun.25 € Jauns s-m kostìms . Samta 85 poliamìds 15 elastans Pasùtit var e veikalā vai Rīga, TeikaSet 75S-mjaun.28 € Костюмчик с Шейна. По невнимательности заказала целых 3 лишних. Есть размеры 1 M-ка Rīga, ImantaSheinSjaun.14 € Продается костюм. Хлопок.Rīga, ImantaИталияS-Мlietota35 € Varu aizsūtīt omnivaRīga, ĶengaragsĶīnaS/mjaun.15 € Stilīgs kostīms no 3-m daļām. Melns ar sarkanu. Superīgi izskatās. Шикарный, модныRīga, PļavniekiElizab. ZanardiM38jaun.115 € Uz vietas Siltināts uz fliša sporta komplekts . S-xl На месте Хлопkoвый на флисе коRīga, TeikaJustplaySmljaun.20 € Тёплый костюм.Rīga, PurvciemsNo nameSjaun.45 € Состояние- новый, рост 170-176, Акрип/шерсть 50/50Rīga, ĶengaragsOgre58jaun.30 € Pārdodu dizainera kostīmu , 38, izmērs . Ļoti maz lietots , ideālā stāvoklī . VaiVentspils un raj., VentspilsYvessaintlaure38lietota75 € Шикарный, модный костюм тройка. Утеплённые подклад у желетки и шорт. Красивый бежевыRīga, PļavniekiElizabetazanarSmjaun.115 € Костюм из натурального материала, малоношенный, классический, очень стильный. В связJēkabpils un raj., Krustpils pag.Vēlme Latvija38lietota45 € Новый костюм. точно как на фото. подойдет и на не большую М.Rīga, ĶengaragsNezSjaun.15 €  Iepriekšējie 1 2 3 4 Nākamie Parādīt izvēlētos sludinājumus load_script_async( \"/w_inc/reklama.php?1686|0|5044|\"+Math.random()+\"|1|\"+escape(document.referrer)+\"|1\" );]\n",
       "Index: []"
      ]
     },
     "execution_count": 19,
     "metadata": {},
     "output_type": "execute_result"
    }
   ],
   "source": [
    "dfs1[0]"
   ]
  },
  {
   "cell_type": "code",
   "execution_count": 20,
   "metadata": {},
   "outputs": [
    {
     "data": {
      "text/html": [
       "<div>\n",
       "<style scoped>\n",
       "    .dataframe tbody tr th:only-of-type {\n",
       "        vertical-align: middle;\n",
       "    }\n",
       "\n",
       "    .dataframe tbody tr th {\n",
       "        vertical-align: top;\n",
       "    }\n",
       "\n",
       "    .dataframe thead th {\n",
       "        text-align: right;\n",
       "    }\n",
       "</style>\n",
       "<table border=\"1\" class=\"dataframe\">\n",
       "  <thead>\n",
       "    <tr style=\"text-align: right;\">\n",
       "      <th></th>\n",
       "      <th>Women's clothes / Knitted sweaters / SellAll advertisementsToday - 1For 2 days - 11For 5 days - 24  Price: - Manufacturer:  Size:  Cond.: newused Location: RigaYurmalaRiga districtDaugavpils and reg.Jelgava and reg.Liepaja and reg. Mode:  List  Album  Deal type: AllSell Type of clothing: All BathrobeBlouses, tunicsCapri, breechesCoatsCollars, CapeCorsetsDown jacketsDressesEvening, ball dressesFancy dresses and masksFur coatsGloves, mittensHats, caps, beretsJacketsJeansJumpsuitsKnitted sweatersLeggingsNightgownsRaincoatsScarfsSheepskin coatsShirtsShortsSkirtsSportswearStockings, socksSuit jacketsSuitsSundressesSweatersSwimsuitsT-shirtsTopsTrousersTurtleneckUnderwearWaistcoatsWedding dresses and accessoriesWindbreakersClothes for pregnant and lactatingAccessoriesOtherFootwearTravel clothing  Advertisements \\tdate ManufacturerSizeCond.PriceПродаю шикарный, теплый кардиган. Одет пару раз, оказался, очень большой, фото не Riga, IlguciemsAsos58used40 € Продаю чисто новый свитер. Oversize размеры S-Xl. Цвет серый, материал плотный. ТольDaugavpils and reg., DaugavpilsTurcijaSmlnew17 € Продаю чисто новый, теплый трикотажный костюм Свитер +юбка. Не просвечивает, ткань пDaugavpils and reg., DaugavpilsTurcijaSmlnew30 € Продаю чисто новый, теплый трикотажный костюм. Плотная ткань, свободный крой. Брюки Daugavpils and reg., DaugavpilsTurcijaSmlnew40 € Vēsākām dienām noderēs gara adīta Reserved jaka. Krūtīs 58x2 cm, garums 115 cm. VaRiga, PlyavniekiReserved44new10 € Sastāvs: 100% itāļu merino vilna krāsa: brūnā izmērs: oversize, onesize plaRiga, CentreNair. lvSmlnew135 € Почти новая кофточка, от Isabel De Pedro, Испания. Без следов износа, на размер S(36Riga, PurvciemsИспанияSused12 € Очень красивый кардиган. Размер - one size, но идеально подойдём на размеры S и М.Riga, ImantaFishia FS-Mnew30 € Ilgtspējīgā un videi draudzīgā zīmola “Human Nature” bieza, koša adīta jaka ar oderiRiga, CentreHuman NatureLused17 € Джинсовая кофта ArmaniRiga, PardaugavaEmporio Armani42new100 € Labdien, pārdodu savas mammas roku darinātos adītos un tamborētos darbiņus. TamborLiepaja and reg., LiepajaRoku darinātsLnew35 € Двусторонняя , плотный 100% хлопок Рукава 3/4 с отворотами.Riga, CentrePepeXsnew25 € Pārdošana stilīgs Itālijas ražojuma hudijs. Izmēri M-Xxl. 90% Kokvilna, 10% elastānsRiga, CentreItalijaS-Lnew49 € Pārdošana stilīga Itālijas hudijs. Izmēri M-Xxl. 90% Kokvilna, 10% elastāns. PieejamRiga, CentreItalijaM-Lnew49 € Uk12.Могу переслать Omniva.Riga, DzeguzhkalnsAdidas12new18 € Продаю новую худи фирмы Bench. Размер ХL.Jelgava and reg., JelgavaBenchXlnew30 € Продаю новую оригинальную кофту Ralph Lauren на молнии с карманами. Плетение - косичRiga, KengaragsRalph LaurenXlnew50 € Universāla izmēra kardigāns S-Xl Dažādas krāsas Omniva 3 EurRiga district, Babītes pag.EiropaUninew20 € Universāla izmēra kardigāns Xs-L Dažādas krāsas Piegāde ar Omniva 3.00 EurRiga district, Babītes pag.EiropaUninew20 € Universāla izmēra kardigāns Garums: 96 cm Pieejamās krāsas: Dažādas: Melna,Riga district, Babītes pag.EiropaUninew20 € Universāla izmēra kardigāns S-Xxl Garums 120 cm Dažādas krāsas Piegāde ar OmnRiga district, Babītes pag.EiropaUninew20 € Aďīta jaka. Izmers- one size. Krāsa- zaļa.Riga, SarkandaugavaTūrcijaOnenew18 € Kardigāni ar kapuci. Silti un stilīgi. Materiāls: 30% vilna, 70% akrils. GarantiRiga, CentreKokosSmlnew39 € Kardigāni ar jostām. Ļoti sievišķīgi. Viss ir uz vietas. Izmēri: One Size (S-L). SRiga, CentreKokosSmlnew39 € Нарядный кофта бомбер с капюшоном, тёплая основная ткань хлопок, оптянута прозрачнойRiga, ImantaИталия42used30 € Stilīgi kardigāni ikdienai. Skaistos, rudenīgos toņos. Izmēri: One Size (S-L). MatRiga, CentreKokosSmlnew32 € Kardigāni ar kapuci. Viss ir uz vietas. Izmēri: One Size (S-L). Sastāvs: 30% vilnaRiga, CentreKokosSmlnew39 € Koši kardigāni. Ražots Itālijā. Izmēri: One Size (S-L). Sastāvs: 50% akrils, 30% pRiga, CentreKokosSmlnew24 € Gari siltie kardigāni rudenim. Viss ir uz vietas. Izmēri: One Size (S-L). Sastāvs:Riga, CentreKokosSmlnew29 € Koфточка трикотажная в стиле Shanel фирмы Gerry Weber, тёмно синего цвета, 40 размерRiga, CentreGerry Weber40used12 €  Previous 1 2 3 Next Show selected advertisements load_script_async( \"/w_inc/reklama.php?1686|0|5849|\"+Math.random()+\"|1|\"+escape(document.referrer)+\"|1\" );</th>\n",
       "    </tr>\n",
       "  </thead>\n",
       "  <tbody>\n",
       "  </tbody>\n",
       "</table>\n",
       "</div>"
      ],
      "text/plain": [
       "Empty DataFrame\n",
       "Columns: [Women's clothes / Knitted sweaters / SellAll advertisementsToday - 1For 2 days - 11For 5 days - 24  Price: - Manufacturer:  Size:  Cond.: newused Location: RigaYurmalaRiga districtDaugavpils and reg.Jelgava and reg.Liepaja and reg. Mode:  List  Album  Deal type: AllSell Type of clothing: All BathrobeBlouses, tunicsCapri, breechesCoatsCollars, CapeCorsetsDown jacketsDressesEvening, ball dressesFancy dresses and masksFur coatsGloves, mittensHats, caps, beretsJacketsJeansJumpsuitsKnitted sweatersLeggingsNightgownsRaincoatsScarfsSheepskin coatsShirtsShortsSkirtsSportswearStockings, socksSuit jacketsSuitsSundressesSweatersSwimsuitsT-shirtsTopsTrousersTurtleneckUnderwearWaistcoatsWedding dresses and accessoriesWindbreakersClothes for pregnant and lactatingAccessoriesOtherFootwearTravel clothing  Advertisements \tdate ManufacturerSizeCond.PriceПродаю шикарный, теплый кардиган. Одет пару раз, оказался, очень большой, фото не Riga, IlguciemsAsos58used40 € Продаю чисто новый свитер. Oversize размеры S-Xl. Цвет серый, материал плотный. ТольDaugavpils and reg., DaugavpilsTurcijaSmlnew17 € Продаю чисто новый, теплый трикотажный костюм Свитер +юбка. Не просвечивает, ткань пDaugavpils and reg., DaugavpilsTurcijaSmlnew30 € Продаю чисто новый, теплый трикотажный костюм. Плотная ткань, свободный крой. Брюки Daugavpils and reg., DaugavpilsTurcijaSmlnew40 € Vēsākām dienām noderēs gara adīta Reserved jaka. Krūtīs 58x2 cm, garums 115 cm. VaRiga, PlyavniekiReserved44new10 € Sastāvs: 100% itāļu merino vilna krāsa: brūnā izmērs: oversize, onesize plaRiga, CentreNair. lvSmlnew135 € Почти новая кофточка, от Isabel De Pedro, Испания. Без следов износа, на размер S(36Riga, PurvciemsИспанияSused12 € Очень красивый кардиган. Размер - one size, но идеально подойдём на размеры S и М.Riga, ImantaFishia FS-Mnew30 € Ilgtspējīgā un videi draudzīgā zīmola “Human Nature” bieza, koša adīta jaka ar oderiRiga, CentreHuman NatureLused17 € Джинсовая кофта ArmaniRiga, PardaugavaEmporio Armani42new100 € Labdien, pārdodu savas mammas roku darinātos adītos un tamborētos darbiņus. TamborLiepaja and reg., LiepajaRoku darinātsLnew35 € Двусторонняя , плотный 100% хлопок Рукава 3/4 с отворотами.Riga, CentrePepeXsnew25 € Pārdošana stilīgs Itālijas ražojuma hudijs. Izmēri M-Xxl. 90% Kokvilna, 10% elastānsRiga, CentreItalijaS-Lnew49 € Pārdošana stilīga Itālijas hudijs. Izmēri M-Xxl. 90% Kokvilna, 10% elastāns. PieejamRiga, CentreItalijaM-Lnew49 € Uk12.Могу переслать Omniva.Riga, DzeguzhkalnsAdidas12new18 € Продаю новую худи фирмы Bench. Размер ХL.Jelgava and reg., JelgavaBenchXlnew30 € Продаю новую оригинальную кофту Ralph Lauren на молнии с карманами. Плетение - косичRiga, KengaragsRalph LaurenXlnew50 € Universāla izmēra kardigāns S-Xl Dažādas krāsas Omniva 3 EurRiga district, Babītes pag.EiropaUninew20 € Universāla izmēra kardigāns Xs-L Dažādas krāsas Piegāde ar Omniva 3.00 EurRiga district, Babītes pag.EiropaUninew20 € Universāla izmēra kardigāns Garums: 96 cm Pieejamās krāsas: Dažādas: Melna,Riga district, Babītes pag.EiropaUninew20 € Universāla izmēra kardigāns S-Xxl Garums 120 cm Dažādas krāsas Piegāde ar OmnRiga district, Babītes pag.EiropaUninew20 € Aďīta jaka. Izmers- one size. Krāsa- zaļa.Riga, SarkandaugavaTūrcijaOnenew18 € Kardigāni ar kapuci. Silti un stilīgi. Materiāls: 30% vilna, 70% akrils. GarantiRiga, CentreKokosSmlnew39 € Kardigāni ar jostām. Ļoti sievišķīgi. Viss ir uz vietas. Izmēri: One Size (S-L). SRiga, CentreKokosSmlnew39 € Нарядный кофта бомбер с капюшоном, тёплая основная ткань хлопок, оптянута прозрачнойRiga, ImantaИталия42used30 € Stilīgi kardigāni ikdienai. Skaistos, rudenīgos toņos. Izmēri: One Size (S-L). MatRiga, CentreKokosSmlnew32 € Kardigāni ar kapuci. Viss ir uz vietas. Izmēri: One Size (S-L). Sastāvs: 30% vilnaRiga, CentreKokosSmlnew39 € Koši kardigāni. Ražots Itālijā. Izmēri: One Size (S-L). Sastāvs: 50% akrils, 30% pRiga, CentreKokosSmlnew24 € Gari siltie kardigāni rudenim. Viss ir uz vietas. Izmēri: One Size (S-L). Sastāvs:Riga, CentreKokosSmlnew29 € Koфточка трикотажная в стиле Shanel фирмы Gerry Weber, тёмно синего цвета, 40 размерRiga, CentreGerry Weber40used12 €  Previous 1 2 3 Next Show selected advertisements load_script_async( \"/w_inc/reklama.php?1686|0|5849|\"+Math.random()+\"|1|\"+escape(document.referrer)+\"|1\" );]\n",
       "Index: []"
      ]
     },
     "execution_count": 20,
     "metadata": {},
     "output_type": "execute_result"
    }
   ],
   "source": [
    "dfs2[0]"
   ]
  },
  {
   "cell_type": "code",
   "execution_count": 26,
   "metadata": {},
   "outputs": [
    {
     "data": {
      "text/plain": [
       "<bound method NDFrame.head of Empty DataFrame\n",
       "Columns: [Sieviešu apģērbi / UzvalkiVisi sludinājumiŠodien - 3Par 2 dienām - 13Par 5 dienām - 25  Cena: - Ražotājs:  Izmērs:  Stāv.: jaun.lietota Atrašanās vieta: RīgaRīgas rajonsDaugavpils un raj.Jēkabpils un raj.Liepāja un raj.Preiļi un raj.Rēzekne un raj.Ventspils un raj. Režīms:  Saraksts  Albums  Darījuma veids: VisiPārdodAtdod Tips: Visi Adītas jakasApakšveļaApkakles, apmetniBiksesBītlenesBleizeri, žaketesBlūzes, tunikasCepures,naģenes, beretesCimdi, dūraiņiDūnu jakasDžemperiDžinsiHalātiJēlādas kažokiKapri bikses, bridžiKarnevāla kostīmi un maskasKažokiKāzu kleitasKleitasKonbinezoniKorsetesKrekliLegingiMēteļiNaktsveļaPeldkostīmiŠallesSarafāniŠortiSporta apģērbiSvārkiT-krekliTopiņiTrenčkotmēteliUzvalkiVakara, balles kleitasVējjakasVestesVirsjakasZeķubikses, zeķesApģērbs grūtniecēm un barojošāmAksesuāriDažādiApaviTūrisma apģērbs  Sludinājumi \tdatums RažotājsIzmērsStāv.CenaПродаю костюм Defacto 38 размера, пиджак и брюки, костюм новый, пиджак стоил 78, 80LRēzekne un raj., RēzekneDe Facto38jaun.20 € Шикарный костюм к любому празднику Цвет насыщенно чёрныйRīga, PurvciemsInter stil42jaun.25 € Костюм (пиджак и юбка) Полиэстер 66%, вискоза 32%, эластан 2% длина юбки 50см В хRīga, Mežciems123 (Paris)38lietota45 € Продаю красивый, модный, качественный и классный летний костюмчик большого размера-5Rīga, ZolitūdeFranciya56jaun.75 € Cotton S, MRīga, PurvciemsTurkeyS, mjaun.35 € Костюм тройка. Состав-Хлопок. Sml.Rīga, centrsItSmljaun.60 € Костюм тройка. Sml. Хлопок.Rīga, centrsItSmljaun.60 € Ivo Nikkolo. Stiligs uzvalks. 100% vilna. Dizonas sinepju krasa. Jauns stavoklis. CeRīga, centrsIvo Nikkolo40lietota75 € Продаю костюм, сшитый на заказ. Натуральная кожа. Одевался пару раз, отличное состRīga, ZolitūdeHand made36jaun.70 € Трикотажный костюм как новый, раз надевала, мне маловат, стоил дороже, висит без делRīga, BolderājaRSlietota25 € Ļoti ērts un stilīgs, kokvilnas kostīms no 3m daļām. Стильный и очень модный костюRīga, PļavniekiBottegaM Ljaun.105 € Новый спортивный костюм Tommy Hilfiger тёмно-зеленого цвета. Размер S и М.Rīga, PurvciemsTommy HilfigerS, mjaun.95 € Деловой костюм, на высокую даму. Нежно- голубой, От-100 см, Ог-116 см, длина юбки-83Rīga, centrsПольша56jaun.35 € Pārdošana stilīgs Itālijas ražojuma sporta kostīms. Izmēri M-Xxl. 90% Kokvilna, 10% Rīga, centrsItalijaM-Ljaun.89 € Pārdošana stilīgs Itālijas ražojuma sporta kostīms. Izmēri M-Xxl. 90% Kokvilna, 10% Rīga, centrsItalijaM-Ljaun.89 € Brīva laika kostīms, praktiski jauns, vienreiz vilkts, 46 izm, kokvilnaDaugavpils un raj., DaugavpilsTurcija46lietota30 € Samta kostìms l40izmers Jauns Pasutit car apakšā mājas lapā cai nopirkt uz vietaRīga, TeikaSet-75M-ljaun.28 € Утеплёный на флисе спортивный костюм s, m, l, xl . На месте или с доставкой можно Rīga, TeikaJustplaySmljaun.25 € Jauns s-m kostìms . Samta 85 poliamìds 15 elastans Pasùtit var e veikalā vai Rīga, TeikaSet 75S-mjaun.28 € Костюмчик с Шейна. По невнимательности заказала целых 3 лишних. Есть размеры 1 M-ка Rīga, ImantaSheinSjaun.14 € Продается костюм. Хлопок.Rīga, ImantaИталияS-Мlietota35 € Varu aizsūtīt omnivaRīga, ĶengaragsĶīnaS/mjaun.15 € Stilīgs kostīms no 3-m daļām. Melns ar sarkanu. Superīgi izskatās. Шикарный, модныRīga, PļavniekiElizab. ZanardiM38jaun.115 € Uz vietas Siltināts uz fliša sporta komplekts . S-xl На месте Хлопkoвый на флисе коRīga, TeikaJustplaySmljaun.20 € Тёплый костюм.Rīga, PurvciemsNo nameSjaun.45 € Состояние- новый, рост 170-176, Акрип/шерсть 50/50Rīga, ĶengaragsOgre58jaun.30 € Pārdodu dizainera kostīmu , 38, izmērs . Ļoti maz lietots , ideālā stāvoklī . VaiVentspils un raj., VentspilsYvessaintlaure38lietota75 € Шикарный, модный костюм тройка. Утеплённые подклад у желетки и шорт. Красивый бежевыRīga, PļavniekiElizabetazanarSmjaun.115 € Костюм из натурального материала, малоношенный, классический, очень стильный. В связJēkabpils un raj., Krustpils pag.Vēlme Latvija38lietota45 € Новый костюм. точно как на фото. подойдет и на не большую М.Rīga, ĶengaragsNezSjaun.15 €  Iepriekšējie 1 2 3 4 Nākamie Parādīt izvēlētos sludinājumus]\n",
       "Index: []>"
      ]
     },
     "execution_count": 26,
     "metadata": {},
     "output_type": "execute_result"
    }
   ],
   "source": [
    "df1=dfs1[1] #random\n",
    "df1.head"
   ]
  },
  {
   "cell_type": "code",
   "execution_count": 27,
   "metadata": {},
   "outputs": [
    {
     "data": {
      "text/plain": [
       "(0, 1)"
      ]
     },
     "execution_count": 27,
     "metadata": {},
     "output_type": "execute_result"
    }
   ],
   "source": [
    "df1.shape #hmmmm again need more time..."
   ]
  }
 ],
 "metadata": {
  "kernelspec": {
   "display_name": "Python 3.10.7 64-bit",
   "language": "python",
   "name": "python3"
  },
  "language_info": {
   "codemirror_mode": {
    "name": "ipython",
    "version": 3
   },
   "file_extension": ".py",
   "mimetype": "text/x-python",
   "name": "python",
   "nbconvert_exporter": "python",
   "pygments_lexer": "ipython3",
   "version": "3.10.7"
  },
  "orig_nbformat": 4,
  "vscode": {
   "interpreter": {
    "hash": "afb734500600fd355917ca529030176ea0ca205570884b88f2f6f7d791fd3fbe"
   }
  }
 },
 "nbformat": 4,
 "nbformat_minor": 2
}
