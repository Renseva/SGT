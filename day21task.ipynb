{
 "cells": [
  {
   "cell_type": "code",
   "execution_count": 29,
   "metadata": {},
   "outputs": [],
   "source": [
    "import selenium\n",
    "from selenium import webdriver\n",
    "from selenium.webdriver.common.keys import Keys\n",
    "from selenium.webdriver.common.by import By\n",
    "import time"
   ]
  },
  {
   "cell_type": "code",
   "execution_count": 30,
   "metadata": {},
   "outputs": [
    {
     "name": "stderr",
     "output_type": "stream",
     "text": [
      "C:\\Users\\User\\AppData\\Local\\Temp\\ipykernel_10868\\2432497092.py:1: DeprecationWarning: executable_path has been deprecated, please pass in a Service object\n",
      "  drv = webdriver.Edge('C:/Users/User/Documents/Lietuva/verslas/mokymasis/Accenture_SGT_Python/Python_codes/selenium/msedgedriver.exe')\n"
     ]
    }
   ],
   "source": [
    "drv = webdriver.Edge('C:/Users/User/Documents/Lietuva/verslas/mokymasis/Accenture_SGT_Python/Python_codes/selenium/msedgedriver.exe')"
   ]
  },
  {
   "cell_type": "markdown",
   "metadata": {},
   "source": [
    "# easier task\n",
    "# 1. open browser with Selenium\n",
    "# 2. go to https://www.ss.com/en/\n",
    "# 3. navigate to Real Estate section \n",
    "# 4. select some region\n",
    "# 5. open it in for sale section \n",
    "\n",
    "# note of course here we could have gone to the page directly by knowing url\n",
    "# but not all pages have such a simple url\n",
    "\n",
    "# you can start here with just url - if you want to skip the above steps\n",
    "# depends on how much time you have\n",
    "# fill in price range\n",
    "# click search"
   ]
  },
  {
   "cell_type": "code",
   "execution_count": 31,
   "metadata": {},
   "outputs": [],
   "source": [
    "drv.get('https://wwww.ss.com/en/')"
   ]
  },
  {
   "cell_type": "code",
   "execution_count": 32,
   "metadata": {},
   "outputs": [
    {
     "ename": "NoSuchElementException",
     "evalue": "Message: no such element: Unable to locate element: {\"method\":\"css selector\",\"selector\":\".a14\"}\n  (Session info: MicrosoftEdge=106.0.1370.52)\nStacktrace:\nBacktrace:\n\tMicrosoft::Applications::Events::EventProperties::SetProperty [0x00007FF72102F112+15282]\n\tMicrosoft::Applications::Events::EventProperty::EventProperty [0x00007FF720FCC812+1461650]\n\tOrdinal0 [0x00007FF720BEC8A5+641189]\n\tOrdinal0 [0x00007FF720C2B6B7+898743]\n\tOrdinal0 [0x00007FF720C2BAAC+899756]\n\tOrdinal0 [0x00007FF720C63DD7+1129943]\n\tOrdinal0 [0x00007FF720C4891F+1018143]\n\tOrdinal0 [0x00007FF720C611F9+1118713]\n\tOrdinal0 [0x00007FF720C486F3+1017587]\n\tOrdinal0 [0x00007FF720C1D104+839940]\n\tOrdinal0 [0x00007FF720C1E76F+845679]\n\tMicrosoft::Applications::Events::EventProperty::EventProperty [0x00007FF720E88A28+135080]\n\tMicrosoft::Applications::Events::EventProperty::EventProperty [0x00007FF720E72888+44552]\n\tMicrosoft::Applications::Events::EventProperty::EventProperty [0x00007FF720E757CC+56652]\n\tOrdinal0 [0x00007FF720CDA764+1615716]\n\tMicrosoft::Applications::Events::EventProperty::EventProperty [0x00007FF720FD1D79+1483513]\n\tMicrosoft::Applications::Events::EventProperty::EventProperty [0x00007FF720FD5C34+1499572]\n\tMicrosoft::Applications::Events::EventProperty::EventProperty [0x00007FF720FD5D8D+1499917]\n\tMicrosoft::Applications::Events::EventProperty::EventProperty [0x00007FF720FDD656+1530838]\n\tBaseThreadInitThunk [0x00007FFB66D27034+20]\n\tRtlUserThreadStart [0x00007FFB673026A1+33]\n",
     "output_type": "error",
     "traceback": [
      "\u001b[1;31m---------------------------------------------------------------------------\u001b[0m",
      "\u001b[1;31mNoSuchElementException\u001b[0m                    Traceback (most recent call last)",
      "Cell \u001b[1;32mIn [32], line 1\u001b[0m\n\u001b[1;32m----> 1\u001b[0m real \u001b[39m=\u001b[39m drv\u001b[39m.\u001b[39;49mfind_element(By\u001b[39m.\u001b[39;49mCLASS_NAME, \u001b[39m'\u001b[39;49m\u001b[39ma14\u001b[39;49m\u001b[39m'\u001b[39;49m)\n\u001b[0;32m      2\u001b[0m \u001b[39mtype\u001b[39m(real)\n",
      "File \u001b[1;32mc:\\Users\\User\\AppData\\Local\\Programs\\Python\\Python310\\lib\\site-packages\\selenium\\webdriver\\remote\\webdriver.py:856\u001b[0m, in \u001b[0;36mWebDriver.find_element\u001b[1;34m(self, by, value)\u001b[0m\n\u001b[0;32m    853\u001b[0m     by \u001b[39m=\u001b[39m By\u001b[39m.\u001b[39mCSS_SELECTOR\n\u001b[0;32m    854\u001b[0m     value \u001b[39m=\u001b[39m \u001b[39m'\u001b[39m\u001b[39m[name=\u001b[39m\u001b[39m\"\u001b[39m\u001b[39m%s\u001b[39;00m\u001b[39m\"\u001b[39m\u001b[39m]\u001b[39m\u001b[39m'\u001b[39m \u001b[39m%\u001b[39m value\n\u001b[1;32m--> 856\u001b[0m \u001b[39mreturn\u001b[39;00m \u001b[39mself\u001b[39;49m\u001b[39m.\u001b[39;49mexecute(Command\u001b[39m.\u001b[39;49mFIND_ELEMENT, {\n\u001b[0;32m    857\u001b[0m     \u001b[39m'\u001b[39;49m\u001b[39musing\u001b[39;49m\u001b[39m'\u001b[39;49m: by,\n\u001b[0;32m    858\u001b[0m     \u001b[39m'\u001b[39;49m\u001b[39mvalue\u001b[39;49m\u001b[39m'\u001b[39;49m: value})[\u001b[39m'\u001b[39m\u001b[39mvalue\u001b[39m\u001b[39m'\u001b[39m]\n",
      "File \u001b[1;32mc:\\Users\\User\\AppData\\Local\\Programs\\Python\\Python310\\lib\\site-packages\\selenium\\webdriver\\remote\\webdriver.py:429\u001b[0m, in \u001b[0;36mWebDriver.execute\u001b[1;34m(self, driver_command, params)\u001b[0m\n\u001b[0;32m    427\u001b[0m response \u001b[39m=\u001b[39m \u001b[39mself\u001b[39m\u001b[39m.\u001b[39mcommand_executor\u001b[39m.\u001b[39mexecute(driver_command, params)\n\u001b[0;32m    428\u001b[0m \u001b[39mif\u001b[39;00m response:\n\u001b[1;32m--> 429\u001b[0m     \u001b[39mself\u001b[39;49m\u001b[39m.\u001b[39;49merror_handler\u001b[39m.\u001b[39;49mcheck_response(response)\n\u001b[0;32m    430\u001b[0m     response[\u001b[39m'\u001b[39m\u001b[39mvalue\u001b[39m\u001b[39m'\u001b[39m] \u001b[39m=\u001b[39m \u001b[39mself\u001b[39m\u001b[39m.\u001b[39m_unwrap_value(\n\u001b[0;32m    431\u001b[0m         response\u001b[39m.\u001b[39mget(\u001b[39m'\u001b[39m\u001b[39mvalue\u001b[39m\u001b[39m'\u001b[39m, \u001b[39mNone\u001b[39;00m))\n\u001b[0;32m    432\u001b[0m     \u001b[39mreturn\u001b[39;00m response\n",
      "File \u001b[1;32mc:\\Users\\User\\AppData\\Local\\Programs\\Python\\Python310\\lib\\site-packages\\selenium\\webdriver\\remote\\errorhandler.py:243\u001b[0m, in \u001b[0;36mErrorHandler.check_response\u001b[1;34m(self, response)\u001b[0m\n\u001b[0;32m    241\u001b[0m         alert_text \u001b[39m=\u001b[39m value[\u001b[39m'\u001b[39m\u001b[39malert\u001b[39m\u001b[39m'\u001b[39m]\u001b[39m.\u001b[39mget(\u001b[39m'\u001b[39m\u001b[39mtext\u001b[39m\u001b[39m'\u001b[39m)\n\u001b[0;32m    242\u001b[0m     \u001b[39mraise\u001b[39;00m exception_class(message, screen, stacktrace, alert_text)  \u001b[39m# type: ignore[call-arg]  # mypy is not smart enough here\u001b[39;00m\n\u001b[1;32m--> 243\u001b[0m \u001b[39mraise\u001b[39;00m exception_class(message, screen, stacktrace)\n",
      "\u001b[1;31mNoSuchElementException\u001b[0m: Message: no such element: Unable to locate element: {\"method\":\"css selector\",\"selector\":\".a14\"}\n  (Session info: MicrosoftEdge=106.0.1370.52)\nStacktrace:\nBacktrace:\n\tMicrosoft::Applications::Events::EventProperties::SetProperty [0x00007FF72102F112+15282]\n\tMicrosoft::Applications::Events::EventProperty::EventProperty [0x00007FF720FCC812+1461650]\n\tOrdinal0 [0x00007FF720BEC8A5+641189]\n\tOrdinal0 [0x00007FF720C2B6B7+898743]\n\tOrdinal0 [0x00007FF720C2BAAC+899756]\n\tOrdinal0 [0x00007FF720C63DD7+1129943]\n\tOrdinal0 [0x00007FF720C4891F+1018143]\n\tOrdinal0 [0x00007FF720C611F9+1118713]\n\tOrdinal0 [0x00007FF720C486F3+1017587]\n\tOrdinal0 [0x00007FF720C1D104+839940]\n\tOrdinal0 [0x00007FF720C1E76F+845679]\n\tMicrosoft::Applications::Events::EventProperty::EventProperty [0x00007FF720E88A28+135080]\n\tMicrosoft::Applications::Events::EventProperty::EventProperty [0x00007FF720E72888+44552]\n\tMicrosoft::Applications::Events::EventProperty::EventProperty [0x00007FF720E757CC+56652]\n\tOrdinal0 [0x00007FF720CDA764+1615716]\n\tMicrosoft::Applications::Events::EventProperty::EventProperty [0x00007FF720FD1D79+1483513]\n\tMicrosoft::Applications::Events::EventProperty::EventProperty [0x00007FF720FD5C34+1499572]\n\tMicrosoft::Applications::Events::EventProperty::EventProperty [0x00007FF720FD5D8D+1499917]\n\tMicrosoft::Applications::Events::EventProperty::EventProperty [0x00007FF720FDD656+1530838]\n\tBaseThreadInitThunk [0x00007FFB66D27034+20]\n\tRtlUserThreadStart [0x00007FFB673026A1+33]\n"
     ]
    }
   ],
   "source": [
    "real = drv.find_element(By.CLASS_NAME, 'a14')\n",
    "type(real)"
   ]
  },
  {
   "cell_type": "markdown",
   "metadata": {},
   "source": [
    "# Harder task - possibly homework\n",
    "# your task is to convert above text into a pandas dataframe\n",
    "# using just Selenium to make a list of dictionaries\n",
    "# where each dictionary is a row in the dataframe\n",
    "# and each key is a column name\n",
    "# and each value is a value in the column\n",
    "\n",
    "# save pandas to csv file- you already know this"
   ]
  }
 ],
 "metadata": {
  "kernelspec": {
   "display_name": "Python 3.10.7 64-bit",
   "language": "python",
   "name": "python3"
  },
  "language_info": {
   "codemirror_mode": {
    "name": "ipython",
    "version": 3
   },
   "file_extension": ".py",
   "mimetype": "text/x-python",
   "name": "python",
   "nbconvert_exporter": "python",
   "pygments_lexer": "ipython3",
   "version": "3.10.7"
  },
  "orig_nbformat": 4,
  "vscode": {
   "interpreter": {
    "hash": "afb734500600fd355917ca529030176ea0ca205570884b88f2f6f7d791fd3fbe"
   }
  }
 },
 "nbformat": 4,
 "nbformat_minor": 2
}
